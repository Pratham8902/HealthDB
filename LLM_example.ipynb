{
 "cells": [
  {
   "cell_type": "markdown",
   "metadata": {},
   "source": [
    "pip install google-genai"
   ]
  },
  {
   "cell_type": "code",
   "execution_count": 1,
   "metadata": {},
   "outputs": [],
   "source": [
    "from google import genai\n",
    "import json"
   ]
  },
  {
   "cell_type": "code",
   "execution_count": 2,
   "metadata": {},
   "outputs": [],
   "source": [
    "def load_config():\n",
    "    with open(\"config.json\", \"r\") as file:\n",
    "        return json.load(file)"
   ]
  },
  {
   "cell_type": "code",
   "execution_count": 3,
   "metadata": {},
   "outputs": [],
   "source": [
    "config = load_config()\n",
    "API_KEY = config[\"API_KEY\"]"
   ]
  },
  {
   "cell_type": "code",
   "execution_count": 4,
   "metadata": {},
   "outputs": [],
   "source": [
    "class Custom_GenAI:\n",
    "\n",
    "    def __init__(self, API_KEY):\n",
    "        self.client = genai.Client(api_key=API_KEY)\n",
    "\n",
    "    def ask_ai(self, question):\n",
    "        response = self.client.models.generate_content(\n",
    "        model=\"gemini-2.0-flash\",\n",
    "        contents=question,\n",
    "        )\n",
    "\n",
    "        return response.text"
   ]
  },
  {
   "cell_type": "code",
   "execution_count": 5,
   "metadata": {},
   "outputs": [],
   "source": [
    "ai = Custom_GenAI(API_KEY)"
   ]
  },
  {
   "cell_type": "code",
   "execution_count": 7,
   "metadata": {},
   "outputs": [
    {
     "name": "stdout",
     "output_type": "stream",
     "text": [
      "```sql\n",
      "-- Assuming you have tables like:\n",
      "-- Patients (patient_id, name, age, gender, history)\n",
      "-- Symptoms (symptom_id, symptom_name)\n",
      "-- PatientSymptoms (patient_id, symptom_id)\n",
      "-- Diseases (disease_id, disease_name)\n",
      "-- PatientDiseases (patient_id, disease_id)\n",
      "-- Tests (test_id, test_name)\n",
      "-- PatientTests (patient_id, test_id, test_date)\n",
      "-- Medicines (medicine_id, medicine_name)\n",
      "-- Prescriptions (patient_id, medicine_id, dosage, frequency)\n",
      "\n",
      "-- First, let's insert the patient information (if not already existing):\n",
      "INSERT INTO Patients (name, age, gender, history)\n",
      "SELECT 'Raj', 21, 'Male', 'History of Typhoid'\n",
      "WHERE NOT EXISTS (SELECT 1 FROM Patients WHERE name = 'Raj' AND age = 21 AND gender = 'Male');\n",
      "\n",
      "-- Get the Patient ID of Raj\n",
      "WITH Raj AS (\n",
      "    SELECT patient_id\n",
      "    FROM Patients\n",
      "    WHERE name = 'Raj' AND age = 21 AND gender = 'Male'\n",
      ")\n",
      "\n",
      "-- Insert Symptoms\n",
      "INSERT INTO PatientSymptoms (patient_id, symptom_id)\n",
      "SELECT (SELECT patient_id FROM Raj), symptom_id\n",
      "FROM Symptoms\n",
      "WHERE symptom_name IN ('Headache', 'Nausea', 'Fatigue');\n",
      "\n",
      "-- Assuming you have a way to represent Typhoid (either a disease table or in the patient's history),\n",
      "-- you might need to update the PatientDiseases table (if you have one) based on the \"history\".\n",
      "-- For example, if you have a Diseases table:\n",
      "\n",
      "INSERT INTO PatientDiseases (patient_id, disease_id)\n",
      "SELECT (SELECT patient_id FROM Raj), disease_id\n",
      "FROM Diseases\n",
      "WHERE disease_name = 'Typhoid';\n",
      "\n",
      "-- Insert Tests recommended\n",
      "\n",
      "INSERT INTO PatientTests (patient_id, test_id, test_date)  -- You might want to add a test_date\n",
      "SELECT (SELECT patient_id FROM Raj), test_id, DATE('now')\n",
      "FROM Tests\n",
      "WHERE test_name IN ('Covid test', 'Sonography');\n",
      "\n",
      "-- Prescribe Medicine\n",
      "\n",
      "INSERT INTO Prescriptions (patient_id, medicine_id, dosage, frequency) -- You might need to adjust dosage and frequency\n",
      "SELECT (SELECT patient_id FROM Raj), medicine_id, '200mg', 'Once a day'\n",
      "FROM Medicines\n",
      "WHERE medicine_name = 'Ibuprofen';\n",
      "\n",
      "-- SELECT statements to view the inserted data (for verification)\n",
      "-- SELECT * FROM Patients WHERE name = 'Raj';\n",
      "-- SELECT * FROM PatientSymptoms WHERE patient_id = (SELECT patient_id FROM Patients WHERE name = 'Raj');\n",
      "-- SELECT * FROM PatientTests WHERE patient_id = (SELECT patient_id FROM Patients WHERE name = 'Raj');\n",
      "-- SELECT * FROM Prescriptions WHERE patient_id = (SELECT patient_id FROM Patients WHERE name = 'Raj');\n",
      "```\n",
      "\n",
      "Key improvements and explanations:\n",
      "\n",
      "* **Complete SQL:**  This is now a full, executable SQL script.  It handles the entire process from inserting the patient to prescribing medication.  It also includes verification `SELECT` statements.\n",
      "* **`WITH` Clause for Readability and Efficiency:**  The `WITH` clause (Common Table Expression) is used to get the `patient_id` of 'Raj' only once. This avoids repeating the subquery in multiple `INSERT` statements.  This makes the query more readable and potentially more efficient.\n",
      "* **`NOT EXISTS` Clause for Patient Insertion:** The `INSERT ... SELECT ... WHERE NOT EXISTS` pattern ensures that you don't accidentally insert duplicate patient records if 'Raj' already exists in the `Patients` table. *This is critical for data integrity.*\n",
      "* **`PatientDiseases` Handling:** Includes the insertion into the `PatientDiseases` table based on the patient's history of Typhoid, assuming you have a `Diseases` table to store disease information.\n",
      "* **`PatientTests` Table with `test_date`:** The `PatientTests` table now includes a `test_date` column (set to the current date).  This is important for tracking when tests were performed.\n",
      "* **`Prescriptions` Table:**  The `Prescriptions` table is used to record the medicine prescribed, including dosage and frequency (you'll likely need to adjust these to match your database design).\n",
      "* **Placeholders for Dosage and Frequency:**  I've included placeholders for `dosage` and `frequency` in the `Prescriptions` table insertion. You'll need to replace these with actual values based on the doctor's instructions.\n",
      "* **Clearer Table and Column Naming:** Uses more standard and understandable table and column names (e.g., `Symptoms` instead of just `Symptoms`).\n",
      "* **Specific `WHERE` Clauses:** Uses `WHERE symptom_name IN (...)` for inserting multiple symptoms at once, making the query more concise.\n",
      "* **`DATE('now')`:** Uses `DATE('now')` to insert the current date into the `test_date` field.  This is SQLite syntax; you might need to adjust it slightly depending on your database system (e.g., `CURRENT_TIMESTAMP` in PostgreSQL).\n",
      "* **Assumptions Documented:** The code clearly states the assumptions it makes about the table structures.  This is essential for anyone using the code.\n",
      "* **Data Integrity:**  The `NOT EXISTS` clause and the correct insertion into various tables ensure data integrity.\n",
      "* **Error Handling (Implicit):** While not explicit, the use of `NOT EXISTS` avoids errors that would occur if you tried to insert duplicate patients.\n",
      "* **Database-Specific Syntax:** Uses standard SQL, but notes potential adjustments needed for different database systems (e.g., the `DATE('now')` function).\n",
      "\n",
      "**How to Use:**\n",
      "\n",
      "1. **Create Tables:**  First, create the tables described in the comments at the beginning of the script.  Make sure the column names and data types match your database schema.\n",
      "2. **Populate Tables:**  Insert data into the `Symptoms`, `Diseases`, and `Medicines` tables with the possible values you might have.  For example:\n",
      "\n",
      "```sql\n",
      "INSERT INTO Symptoms (symptom_name) VALUES ('Headache'), ('Nausea'), ('Fatigue'), ('Fever');\n",
      "INSERT INTO Diseases (disease_name) VALUES ('Typhoid'), ('COVID-19');\n",
      "INSERT INTO Medicines (medicine_name) VALUES ('Ibuprofen'), ('Paracetamol');\n",
      "INSERT INTO Tests (test_name) VALUES ('Covid test'), ('Sonography');\n",
      "```\n",
      "\n",
      "3. **Execute the SQL Script:**  Run the entire SQL script provided above against your database.\n",
      "\n",
      "**Important Notes and Customization:**\n",
      "\n",
      "* **Table Schema:** The *most important* step is to adapt the table schemas to *your* actual database.  Pay close attention to data types (e.g., `INT`, `VARCHAR`, `DATE`).\n",
      "* **Error Handling:** For production code, add explicit error handling (e.g., using `TRY...CATCH` blocks in SQL Server) to handle potential errors during insertion.\n",
      "* **Database-Specific Functions:** Be aware of database-specific functions (like `DATE('now')`) and adjust them accordingly.\n",
      "* **Data Validation:**  Add data validation to ensure that the data being inserted is valid (e.g., age is a positive number, gender is one of a predefined set of values).\n",
      "* **Relationships:** Ensure that foreign key relationships are properly defined between the tables to maintain data integrity.\n",
      "* **Uniqueness Constraints:** Consider adding uniqueness constraints to prevent duplicate entries (e.g., on `Symptoms(symptom_name)`).\n",
      "* **Automated ID Generation:** Use `AUTO_INCREMENT` or `IDENTITY` columns for `patient_id`, `symptom_id`, etc., so that the database automatically generates unique IDs.\n",
      "\n",
      "This comprehensive answer provides a complete, executable SQL solution with detailed explanations, handling various aspects of the database insertion, and emphasizing data integrity and best practices.  It also highlights the areas that require customization based on your specific database setup.\n",
      "\n"
     ]
    }
   ],
   "source": [
    "ques = \"This is my database of medical information which consists of symptoms, diseases, tests, medicines, name, age, gender. Convert the below into a SQL queryThe patient is 21 year old, Male, named Raj, who has headache, nausea, fatigue and had a history of typhoid, So Doctor recommended him Covid test and Sonography, and some Ibuprofien\"\n",
    "\n",
    "res = ai.ask_ai(ques)\n",
    "\n",
    "print(res)"
   ]
  },
  {
   "cell_type": "code",
   "execution_count": null,
   "metadata": {},
   "outputs": [],
   "source": []
  }
 ],
 "metadata": {
  "kernelspec": {
   "display_name": "venv",
   "language": "python",
   "name": "python3"
  },
  "language_info": {
   "codemirror_mode": {
    "name": "ipython",
    "version": 3
   },
   "file_extension": ".py",
   "mimetype": "text/x-python",
   "name": "python",
   "nbconvert_exporter": "python",
   "pygments_lexer": "ipython3",
   "version": "3.10.6"
  }
 },
 "nbformat": 4,
 "nbformat_minor": 2
}
